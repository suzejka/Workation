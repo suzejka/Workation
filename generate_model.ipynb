{
 "cells": [
  {
   "cell_type": "code",
   "execution_count": null,
   "metadata": {},
   "outputs": [],
   "source": [
    "import pandas as pd\n",
    "import numpy as np\n",
    "from sklearn.model_selection import train_test_split\n",
    "from sklearn.preprocessing import LabelEncoder\n",
    "import streamlit as st\n",
    "from pycaret.regression import *"
   ]
  },
  {
   "cell_type": "code",
   "execution_count": null,
   "metadata": {},
   "outputs": [],
   "source": [
    "LABEL_ENCODER = None\n",
    "'''\n",
    "def remove_null(data):\n",
    "    data.dropna(inplace=True)\n",
    "    return data\n",
    "\n",
    "def convert_dates_to_one_format(data):\n",
    "    data['Travel Date'] = pd.to_datetime(data['Travel Date'], errors='coerce')\n",
    "    data['Travel Date'] = data['Travel Date'].dt.strftime('%Y-%m-%d')\n",
    "    return data\n",
    "\n",
    "def replace_space_with_underscore(name):\n",
    "    return name.replace(' ', '_')\n",
    "\n",
    "def create_label_encoding(data):\n",
    "    global LABEL_ENCODER\n",
    "    cat_cols = data.select_dtypes(include=['object']).columns\n",
    "    LABEL_ENCODER = LabelEncoder()\n",
    "    for col in cat_cols:\n",
    "        data[col] = LABEL_ENCODER.fit_transform(data[col])\n",
    "        np.save('classes_{0}.npy'.format(replace_space_with_underscore(col)), LABEL_ENCODER.classes_, allow_pickle=True)\n",
    "\n",
    "def change_int32_to_int64(data):\n",
    "    for col in data.columns:\n",
    "        if data[col].dtype == 'int64':\n",
    "            data[col] = data[col].astype('int32')\n",
    "\n",
    "def data_preprocessing(data):\n",
    "    data.drop(['Uniq Id'], axis=1, inplace=True)\n",
    "    remove_null(data)\n",
    "    change_int32_to_int64(data)\n",
    "    convert_dates_to_one_format(data)\n",
    "    create_label_encoding(data)\n",
    "'''\n",
    "def find_best_models(train):\n",
    "    rgs1 = setup(data = train, target = \"Per Person Price\", silent=True)\n",
    "    best_regression_models = compare_models()\n",
    "    return best_regression_models\n",
    "\n",
    "def create_best_model():\n",
    "    best_model = create_model('rf') #random forest chosen from find_best_model()\n",
    "    return best_model"
   ]
  },
  {
   "cell_type": "code",
   "execution_count": null,
   "metadata": {},
   "outputs": [],
   "source": [
    "#Loading data and displaying it\n",
    "train = pd.read_csv('dataset\\Train_prepared.csv')\n",
    "validation = pd.read_csv('dataset\\Test_prepared.csv')\n",
    "display(train)"
   ]
  },
  {
   "cell_type": "code",
   "execution_count": null,
   "metadata": {},
   "outputs": [],
   "source": [
    "#Displaying types of the train dataset\n",
    "types = train.dtypes\n",
    "print(types)"
   ]
  },
  {
   "cell_type": "code",
   "execution_count": null,
   "metadata": {},
   "outputs": [],
   "source": [
    "best_models = find_best_models(train)"
   ]
  },
  {
   "cell_type": "code",
   "execution_count": null,
   "metadata": {},
   "outputs": [],
   "source": [
    "results = pull()\n",
    "print(best_models)\n",
    "save_model(best, 'random_forest_model')"
   ]
  }
 ],
 "metadata": {
  "kernelspec": {
   "display_name": "SUMLFINAL",
   "language": "python",
   "name": "python3"
  },
  "language_info": {
   "codemirror_mode": {
    "name": "ipython",
    "version": 3
   },
   "file_extension": ".py",
   "mimetype": "text/x-python",
   "name": "python",
   "nbconvert_exporter": "python",
   "pygments_lexer": "ipython3",
   "version": "3.8.15 (default, Nov 24 2022, 14:38:14) [MSC v.1916 64 bit (AMD64)]"
  },
  "orig_nbformat": 4,
  "vscode": {
   "interpreter": {
    "hash": "2a2ede5648c826ff7033f9e2f68fc0677764ba8849ed3b03756b56df455908fa"
   }
  }
 },
 "nbformat": 4,
 "nbformat_minor": 2
}
