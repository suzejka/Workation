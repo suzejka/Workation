{
 "cells": [
  {
   "cell_type": "code",
   "execution_count": 1,
   "metadata": {},
   "outputs": [],
   "source": [
    "import pandas as pd\n",
    "import numpy as np\n",
    "from sklearn.model_selection import train_test_split\n",
    "from sklearn.preprocessing import LabelEncoder\n",
    "import streamlit as st\n",
    "from pycaret.regression import *\n",
    "import re"
   ]
  },
  {
   "cell_type": "code",
   "execution_count": 11,
   "metadata": {},
   "outputs": [],
   "source": [
    "### preprocessing \n",
    "\n",
    "def split_category(value):\n",
    "    vals = []\n",
    "    if '|' in value:\n",
    "        vals = value.split('|')\n",
    "    else:\n",
    "        vals.append(value)\n",
    "    return vals\n",
    "\n",
    "def split_columns_with_multiple_values(data):\n",
    "    data['Airline'] = data['Airline'].apply(split_category)\n",
    "    data['Places Covered'] = data['Places Covered'].apply(split_category)\n",
    "    data['Sightseeing Places Covered'] = data['Sightseeing Places Covered'].apply(split_category)\n",
    "    data['Hotel Details'] = data['Hotel Details'].apply(split_category)    \n",
    "    \n",
    "    prepare_itinerary(data)\n",
    "    \n",
    "    return data\n",
    "\n",
    "def one_hot_encoding_on_columns(data):\n",
    "    dummy_type = pd.get_dummies(data['Package Type'], prefix='type')\n",
    "    data.drop(columns=['Package Type'], inplace=True)\n",
    "    data = pd.concat([data, dummy_type], axis=1)\n",
    "\n",
    "    dummy_city = pd.get_dummies(data['Start City'], prefix='sc')\n",
    "    data.drop(columns=['Start City'], inplace=True)\n",
    "    data = pd.concat([data, dummy_city], axis=1)\n",
    "    return data\n",
    "\n",
    "def show_category(series):\n",
    "    values = {}\n",
    "    for val in series:\n",
    "        for each in val:\n",
    "            if each in values:\n",
    "                values[each] += 1\n",
    "            else:\n",
    "                values[each] = 1\n",
    "    return values\n",
    "\n",
    "def make_feature_col(series, all_keys):\n",
    "    feature_dict = {key: [] for key in all_keys}\n",
    "    for items in series:\n",
    "        for key in all_keys:\n",
    "            if key not in items:\n",
    "                feature_dict[key].append(0)\n",
    "            else:\n",
    "                feature_dict[key].append(1)\n",
    "\n",
    "    return pd.DataFrame(feature_dict)\n",
    "\n",
    "def structuring_columns(data):\n",
    "    change = lambda pc: [each+'_ae' for each in pc]\n",
    "    A_all_keys = show_category(data['Airline']).keys()\n",
    "    A_all_keys = change(A_all_keys)\n",
    "    airline = make_feature_col(data['Airline'], A_all_keys)\n",
    "    data = pd.concat([data, airline], axis=1)\n",
    "    \n",
    "    change = lambda pc: [each+'_pc' for each in pc]\n",
    "    PC_all_keys = show_category(data['Places Covered']).keys()\n",
    "    PC_all_keys = change(PC_all_keys)\n",
    "    p_covered = make_feature_col(data['Places Covered'], PC_all_keys)\n",
    "    data = pd.concat([data, p_covered], axis=1)\n",
    "\n",
    "    change = lambda pc: [each+'_hd' for each in pc]\n",
    "    HD_all_keys = show_category(data['Hotel Details']).keys()\n",
    "    HD_all_keys = change(PC_all_keys)\n",
    "    h_details = make_feature_col(data['Hotel Details'], HD_all_keys)\n",
    "    data = pd.concat([data, h_details], axis=1)\n",
    "\n",
    "    return data\n",
    "\n",
    "def prepare_itinerary(data):\n",
    "    data['Itinerary'] = data['Itinerary'].str.split(\".\")\n",
    "    for j in data['Itinerary']:\n",
    "        j = re.sub(r'[^0-9N]', '', j)\n",
    "        j = data['Itinerary'].split('N')\n",
    "        j = list(filter(None, j))\n",
    "        j = [int(i) for i in j]\n",
    "    \n",
    "\n",
    "def remove_useless_columns(data):\n",
    "    data.drop('Uniq Id', inplace=True, axis=1)\n",
    "    data.drop('Package Name', inplace=True, axis=1)\n",
    "    data.drop('Destination', inplace=True, axis=1)\n",
    "    data.drop('Cancellation Rules', inplace=True, axis=1)\n",
    "    return data\n",
    "\n",
    "def hotel_details_encoding(data):\n",
    "    data['Hotel Details'] = data['Hotel Details'].str.replace(\":One\",':1.0')\n",
    "    data['Hotel Details'] = data['Hotel Details'].str.replace(\":Two\",':2.0')\n",
    "    data['Hotel Details'] = data['Hotel Details'].str.replace(\":Three\",':3.0')\n",
    "    data['Hotel Details'] = data['Hotel Details'].str.replace(\":Four\",':4.0')\n",
    "    data['Hotel Details'] = data['Hotel Details'].str.replace(\":Five\",':5.0')\n",
    "\n",
    "    data['Hotel Details'] = data['Hotel Details'].str.replace(\" - mmt holidays special\",'')\n",
    "    data['Hotel Details'] = data['Hotel Details'].str.replace(\"- mmt holidays special\",'')\n",
    "    data['Hotel Details'] = data['Hotel Details'].str.replace(\"-mmt holidays special\",'')\n",
    "    data['Hotel Details'] = data['Hotel Details'].str.replace(\"(mmt holidays special)\",'')\n",
    "    data['Hotel Details'] = data['Hotel Details'].str.replace(\" - mmt special\",'')\n",
    "    data['Hotel Details'] = data['Hotel Details'].str.replace(\"- mmt speciall\",'')\n",
    "    data['Hotel Details'] = data['Hotel Details'].str.replace(\"-mmt special\",'')\n",
    "    data['Hotel Details'] = data['Hotel Details'].str.replace(\"mmt special\",'')\n",
    "    return data\n",
    "\n",
    "def convert_dates_to_one_format(data):\n",
    "    data['Travel Date'] = pd.to_datetime(data['Travel Date'], errors='coerce')\n",
    "    data['Travel Date'] = data['Travel Date'].dt.strftime('%d-%m-%Y')\n",
    "    return data\n",
    "\n",
    "def preprocess_data(data):\n",
    "    data = remove_useless_columns(data)\n",
    "    data = convert_dates_to_one_format(data)\n",
    "    data = hotel_details_encoding(data)\n",
    "    data = split_columns_with_multiple_values(data)\n",
    "    data = one_hot_encoding_on_columns(data)\n",
    "    data = structuring_columns(data)\n",
    "    return(data)"
   ]
  },
  {
   "cell_type": "code",
   "execution_count": 12,
   "metadata": {},
   "outputs": [],
   "source": [
    "train = pd.read_csv('dataset\\Train.csv')\n",
    "validation = pd.read_csv('dataset\\Test.csv')"
   ]
  },
  {
   "cell_type": "code",
   "execution_count": 13,
   "metadata": {},
   "outputs": [
    {
     "ename": "TypeError",
     "evalue": "expected string or bytes-like object",
     "output_type": "error",
     "traceback": [
      "\u001b[1;31m---------------------------------------------------------------------------\u001b[0m",
      "\u001b[1;31mTypeError\u001b[0m                                 Traceback (most recent call last)",
      "Cell \u001b[1;32mIn[13], line 1\u001b[0m\n\u001b[1;32m----> 1\u001b[0m final_train_data \u001b[39m=\u001b[39m preprocess_data(train)\n\u001b[0;32m      2\u001b[0m final_validation_data \u001b[39m=\u001b[39m preprocess_data(validation)\n",
      "Cell \u001b[1;32mIn[11], line 115\u001b[0m, in \u001b[0;36mpreprocess_data\u001b[1;34m(data)\u001b[0m\n\u001b[0;32m    113\u001b[0m data \u001b[39m=\u001b[39m convert_dates_to_one_format(data)\n\u001b[0;32m    114\u001b[0m data \u001b[39m=\u001b[39m hotel_details_encoding(data)\n\u001b[1;32m--> 115\u001b[0m data \u001b[39m=\u001b[39m split_columns_with_multiple_values(data)\n\u001b[0;32m    116\u001b[0m data \u001b[39m=\u001b[39m one_hot_encoding_on_columns(data)\n\u001b[0;32m    117\u001b[0m data \u001b[39m=\u001b[39m structuring_columns(data)\n",
      "Cell \u001b[1;32mIn[11], line 17\u001b[0m, in \u001b[0;36msplit_columns_with_multiple_values\u001b[1;34m(data)\u001b[0m\n\u001b[0;32m     14\u001b[0m data[\u001b[39m'\u001b[39m\u001b[39mSightseeing Places Covered\u001b[39m\u001b[39m'\u001b[39m] \u001b[39m=\u001b[39m data[\u001b[39m'\u001b[39m\u001b[39mSightseeing Places Covered\u001b[39m\u001b[39m'\u001b[39m]\u001b[39m.\u001b[39mapply(split_category)\n\u001b[0;32m     15\u001b[0m data[\u001b[39m'\u001b[39m\u001b[39mHotel Details\u001b[39m\u001b[39m'\u001b[39m] \u001b[39m=\u001b[39m data[\u001b[39m'\u001b[39m\u001b[39mHotel Details\u001b[39m\u001b[39m'\u001b[39m]\u001b[39m.\u001b[39mapply(split_category)    \n\u001b[1;32m---> 17\u001b[0m prepare_itinerary(data)\n\u001b[0;32m     19\u001b[0m \u001b[39mreturn\u001b[39;00m data\n",
      "Cell \u001b[1;32mIn[11], line 76\u001b[0m, in \u001b[0;36mprepare_itinerary\u001b[1;34m(data)\u001b[0m\n\u001b[0;32m     74\u001b[0m data[\u001b[39m'\u001b[39m\u001b[39mItinerary\u001b[39m\u001b[39m'\u001b[39m] \u001b[39m=\u001b[39m data[\u001b[39m'\u001b[39m\u001b[39mItinerary\u001b[39m\u001b[39m'\u001b[39m]\u001b[39m.\u001b[39mstr\u001b[39m.\u001b[39msplit(\u001b[39m\"\u001b[39m\u001b[39m.\u001b[39m\u001b[39m\"\u001b[39m)\n\u001b[0;32m     75\u001b[0m \u001b[39mfor\u001b[39;00m j \u001b[39min\u001b[39;00m data[\u001b[39m'\u001b[39m\u001b[39mItinerary\u001b[39m\u001b[39m'\u001b[39m]:\n\u001b[1;32m---> 76\u001b[0m     j \u001b[39m=\u001b[39m re\u001b[39m.\u001b[39;49msub(\u001b[39mr\u001b[39;49m\u001b[39m'\u001b[39;49m\u001b[39m[^0-9N]\u001b[39;49m\u001b[39m'\u001b[39;49m, \u001b[39m'\u001b[39;49m\u001b[39m'\u001b[39;49m, j)\n\u001b[0;32m     77\u001b[0m     j \u001b[39m=\u001b[39m data[\u001b[39m'\u001b[39m\u001b[39mItinerary\u001b[39m\u001b[39m'\u001b[39m]\u001b[39m.\u001b[39msplit(\u001b[39m'\u001b[39m\u001b[39mN\u001b[39m\u001b[39m'\u001b[39m)\n\u001b[0;32m     78\u001b[0m     j \u001b[39m=\u001b[39m \u001b[39mlist\u001b[39m(\u001b[39mfilter\u001b[39m(\u001b[39mNone\u001b[39;00m, j))\n",
      "File \u001b[1;32mc:\\Users\\CEM\\anaconda3\\envs\\suml_3_8\\lib\\re.py:210\u001b[0m, in \u001b[0;36msub\u001b[1;34m(pattern, repl, string, count, flags)\u001b[0m\n\u001b[0;32m    203\u001b[0m \u001b[39mdef\u001b[39;00m \u001b[39msub\u001b[39m(pattern, repl, string, count\u001b[39m=\u001b[39m\u001b[39m0\u001b[39m, flags\u001b[39m=\u001b[39m\u001b[39m0\u001b[39m):\n\u001b[0;32m    204\u001b[0m \u001b[39m    \u001b[39m\u001b[39m\"\"\"Return the string obtained by replacing the leftmost\u001b[39;00m\n\u001b[0;32m    205\u001b[0m \u001b[39m    non-overlapping occurrences of the pattern in string by the\u001b[39;00m\n\u001b[0;32m    206\u001b[0m \u001b[39m    replacement repl.  repl can be either a string or a callable;\u001b[39;00m\n\u001b[0;32m    207\u001b[0m \u001b[39m    if a string, backslash escapes in it are processed.  If it is\u001b[39;00m\n\u001b[0;32m    208\u001b[0m \u001b[39m    a callable, it's passed the Match object and must return\u001b[39;00m\n\u001b[0;32m    209\u001b[0m \u001b[39m    a replacement string to be used.\"\"\"\u001b[39;00m\n\u001b[1;32m--> 210\u001b[0m     \u001b[39mreturn\u001b[39;00m _compile(pattern, flags)\u001b[39m.\u001b[39;49msub(repl, string, count)\n",
      "\u001b[1;31mTypeError\u001b[0m: expected string or bytes-like object"
     ]
    }
   ],
   "source": [
    "final_train_data = preprocess_data(train)\n",
    "final_validation_data = preprocess_data(validation)"
   ]
  },
  {
   "cell_type": "code",
   "execution_count": null,
   "metadata": {},
   "outputs": [],
   "source": [
    "### Displaying processed data\n",
    "\n",
    "print('================TRAINING DATA==================')\n",
    "display(final_train_data)\n",
    "print(final_train_data.shape)\n",
    "\n",
    "print('================VALIDATION DATA==================')\n",
    "display(final_validation_data)\n",
    "print(final_validation_data.shape)"
   ]
  },
  {
   "cell_type": "code",
   "execution_count": 71,
   "metadata": {},
   "outputs": [],
   "source": [
    "### Saving processed data to csv\n",
    "\n",
    "final_train_data.to_csv('dataset\\Train_prepared.csv') \n",
    "final_validation_data.to_csv('dataset\\Test_prepared.csv')"
   ]
  }
 ],
 "metadata": {
  "kernelspec": {
   "display_name": "Python 3 (ipykernel)",
   "language": "python",
   "name": "python3"
  },
  "language_info": {
   "codemirror_mode": {
    "name": "ipython",
    "version": 3
   },
   "file_extension": ".py",
   "mimetype": "text/x-python",
   "name": "python",
   "nbconvert_exporter": "python",
   "pygments_lexer": "ipython3",
   "version": "3.8.15"
  },
  "vscode": {
   "interpreter": {
    "hash": "c7f67471c9082cc334f6e7b7fd44d764c9c4ab41fda39a89c0c9c6545a6b9fc3"
   }
  }
 },
 "nbformat": 4,
 "nbformat_minor": 2
}
